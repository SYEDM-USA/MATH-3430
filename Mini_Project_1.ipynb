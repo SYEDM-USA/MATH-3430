{
  "nbformat": 4,
  "nbformat_minor": 0,
  "metadata": {
    "colab": {
      "name": "Mini Project 1.ipynb",
      "provenance": [],
      "authorship_tag": "ABX9TyOOlryX+96z8Qs8Gthbx4M6",
      "include_colab_link": true
    },
    "kernelspec": {
      "name": "ir",
      "display_name": "R"
    }
  },
  "cells": [
    {
      "cell_type": "markdown",
      "metadata": {
        "id": "view-in-github",
        "colab_type": "text"
      },
      "source": [
        "<a href=\"https://colab.research.google.com/github/SYEDM-USA/MATH-3430/blob/main/Mini_Project_1.ipynb\" target=\"_parent\"><img src=\"https://colab.research.google.com/assets/colab-badge.svg\" alt=\"Open In Colab\"/></a>"
      ]
    },
    {
      "cell_type": "markdown",
      "metadata": {
        "id": "KfEUtb6tBmVs"
      },
      "source": [
        "# MINI PROJECT 1\n",
        "For this project you will use the `election` dataset available as a `.csv` file at `https://think.cs.vt.edu/corgis/csv/election/`. The dataset contains results collected from CNN’s 2016 election center. Each county has the breakdown of how many votes each candidate received in that county and what percentage of the total vote from that county that the candidate received. The candidate’s political party is also represented."
      ]
    },
    {
      "cell_type": "code",
      "metadata": {
        "id": "Jv38i0CrBKaN"
      },
      "source": [
        "library(ggplot2)\n",
        "library(tidyverse)"
      ],
      "execution_count": null,
      "outputs": []
    },
    {
      "cell_type": "markdown",
      "metadata": {
        "id": "halTUmNMB0Ho"
      },
      "source": [
        "## Data pre-processing - cleaning and transformations"
      ]
    },
    {
      "cell_type": "markdown",
      "metadata": {
        "id": "WnzTgA1OB5ew"
      },
      "source": [
        "### 1. Drop the following variables (or columns) from your dataset.\n",
        "\n",
        "  `Location.State`\n",
        "\n",
        "  `Vote Data.No Preference.Number of Votes`\n",
        "  \n",
        "  `Vote Data.No Preference.Party`\n",
        "  \n",
        "  `Vote Data.No Preference.Percent of Votes`\n",
        " \n",
        "  `Vote Data.Uncommitted.Number of Votes`\n",
        " \n",
        "  `Vote Data.Uncommitted.Party`\n",
        " \n",
        "  `Vote Data.Uncommitted.Percent of Votes`"
      ]
    },
    {
      "cell_type": "code",
      "metadata": {
        "id": "6yQHKWc-B_Yf"
      },
      "source": [
        ""
      ],
      "execution_count": null,
      "outputs": []
    },
    {
      "cell_type": "markdown",
      "metadata": {
        "id": "kkPUjmDGCAai"
      },
      "source": [
        "### 2. Rename the variable `Location.County` as `County` and `Location.State Abbreviation` as `State`."
      ]
    },
    {
      "cell_type": "code",
      "metadata": {
        "id": "grtNe6e4CTU1"
      },
      "source": [
        ""
      ],
      "execution_count": null,
      "outputs": []
    },
    {
      "cell_type": "markdown",
      "metadata": {
        "id": "UDUBQdDlCT0P"
      },
      "source": [
        "### 3. The dataset contains voting results for 14 presidential candidates from 2016. There are 3 variables (or columns) for each candidate which makes this dataset non-tidy. Tidy up the `election` dataset using the functions from the `tidyr` package by gathering all the 14 candidate names under the `Candidate` column, their political party affiliation under the `Party` column, the number and the percentage of votes they received under the `Number_of_votes` and `Percentage_of_votes` columns respectively. You should end up getting a tibble with 59,024 rows (4216 counties times 14 candidates) and 6 columns (`County`,`State`, `Candidate`, `Number_of_votes`,`Party` and `Percent_ _of_votes`). The `Candidate` column should contain only the first and last names of the candidates. Print the tibble to the console."
      ]
    },
    {
      "cell_type": "code",
      "metadata": {
        "id": "GQYTG7ePCZaO"
      },
      "source": [
        ""
      ],
      "execution_count": null,
      "outputs": []
    },
    {
      "cell_type": "markdown",
      "metadata": {
        "id": "jRWvhhZICZrS"
      },
      "source": [
        "### 4. Transform your data to obtain a new tibble containing voting results at the __state__ level. This new tibble should have 686 rows (49 states times 14 candidates) and 5 columns (`State`, `Candidate`, `Total_number_of_votes`,`Party` and `Total_percent_of_votes`). Print the tibble to the console."
      ]
    },
    {
      "cell_type": "code",
      "metadata": {
        "id": "blOYpCf_CcR8"
      },
      "source": [
        ""
      ],
      "execution_count": null,
      "outputs": []
    },
    {
      "cell_type": "markdown",
      "metadata": {
        "id": "Rv0vyESnCc2m"
      },
      "source": [
        "## EDA\n"
      ]
    },
    {
      "cell_type": "markdown",
      "metadata": {
        "id": "FaeQnX3TCdZE"
      },
      "source": [
        "### 5. Verify that the sum of `Total_percent_of_votes` of the candidates for each state is equal to one. "
      ]
    },
    {
      "cell_type": "code",
      "metadata": {
        "id": "Uu3gc8H8CyTB"
      },
      "source": [
        ""
      ],
      "execution_count": null,
      "outputs": []
    },
    {
      "cell_type": "markdown",
      "metadata": {
        "id": "AR31PqM1C4zk"
      },
      "source": [
        "### 6. Produce a barplot showing the distribution of the number candidates along the party line. Color the two bars with `red` and `blue` colors according to party affiliation."
      ]
    },
    {
      "cell_type": "code",
      "metadata": {
        "id": "TUe2rT1vC7Jw"
      },
      "source": [
        ""
      ],
      "execution_count": null,
      "outputs": []
    },
    {
      "cell_type": "markdown",
      "metadata": {
        "id": "UJ64Sy0qC7VV"
      },
      "source": [
        "### 7. Produce a barplot showing the distribution of the overall total number of votes received by the top seven candidates. Color the two bars with `red` and `blue` colors according to party affiliation. "
      ]
    },
    {
      "cell_type": "code",
      "metadata": {
        "id": "JC5UEFYoDFar"
      },
      "source": [
        ""
      ],
      "execution_count": null,
      "outputs": []
    },
    {
      "cell_type": "markdown",
      "metadata": {
        "id": "nvTMod6pDFlT"
      },
      "source": [
        "### 8. Produce a barplot showing the distribution of the total number of votes received by the top seven candidates in the state of Ohio. Color the two bars with `red` and `blue` colors according to party affiliation. "
      ]
    },
    {
      "cell_type": "code",
      "metadata": {
        "id": "qtYG6aTQDHqw"
      },
      "source": [
        ""
      ],
      "execution_count": null,
      "outputs": []
    },
    {
      "cell_type": "markdown",
      "metadata": {
        "id": "3NjfawdKDH0a"
      },
      "source": [
        "### 9. Produce a barplot showing the distribution of votes along the party lines for each state. There should be 49 bars with the same height (`position='fill'`) each colored with `red` and `blue` depending on the proportion of votes."
      ]
    },
    {
      "cell_type": "code",
      "metadata": {
        "id": "Ts3u3kjuDJu-"
      },
      "source": [
        ""
      ],
      "execution_count": null,
      "outputs": []
    },
    {
      "cell_type": "markdown",
      "metadata": {
        "id": "u21CBxv8DJ56"
      },
      "source": [
        "## YOUR QUESTIONS"
      ]
    },
    {
      "cell_type": "markdown",
      "metadata": {
        "id": "f_TiWQ6vDOHF"
      },
      "source": [
        "### Come up with 5 more questions about this dataset and answer them using the tools learned in class. Illustrate your answers with appropriate R outputs such as printed tibbles and plots."
      ]
    },
    {
      "cell_type": "code",
      "metadata": {
        "id": "VCOL4CvnDel2"
      },
      "source": [
        ""
      ],
      "execution_count": null,
      "outputs": []
    }
  ]
}